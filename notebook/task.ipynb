{
 "cells": [
  {
   "cell_type": "markdown",
   "id": "ac798da1",
   "metadata": {},
   "source": [
    "Sequence Models / NLP\n",
    "Amaç\n",
    "\n",
    "Metin tabanlı modelleri (LSTM, GRU, Transformers) uygulayıp sonuçlarını kıyaslamak.\n",
    "\n",
    "Görev Adımları\n",
    "\n",
    "Veri Hazırlığı\n",
    "\n",
    "Kaggle’dan IMDB Sentiment Analysis dataset’ini indir.\n",
    "\n",
    "Train/test split hazır (varsa tekrar düzenle).\n",
    "\n",
    "Tokenization ve Padding uygula.\n",
    "\n",
    "Model 1 – LSTM / GRU\n",
    "\n",
    "Embedding Layer (örn. 100 boyutlu).\n",
    "\n",
    "LSTM veya GRU katmanı ekle.\n",
    "\n",
    "Çıkış: Sigmoid (binary classification).\n",
    "\n",
    "Model 2 – Transformer Tabanlı\n",
    "\n",
    "HuggingFace’den BERT veya RoBERTa pre-trained modeli al.\n",
    "\n",
    "LoRA veya PEFT ile fine-tune et.\n",
    "\n",
    "Değerlendirme\n",
    "\n",
    "Accuracy, Precision, Recall, F1 Score hesapla.\n",
    "\n",
    "BLEU Score (opsiyonel, sequence generation senaryosu için).\n",
    "\n",
    "Modelleri yan yana kıyasla.\n",
    "\n",
    "📌 Beklenen Çıktılar: F1 Score tablosu, confusion matrix, model karşılaştırma raporu."
   ]
  },
  {
   "cell_type": "code",
   "execution_count": 7,
   "id": "1a98ee68",
   "metadata": {},
   "outputs": [],
   "source": [
    "import pandas as pd\n",
    "import numpy as np\n",
    "from sklearn.model_selection import train_test_split"
   ]
  },
  {
   "cell_type": "markdown",
   "id": "5c09ff40",
   "metadata": {},
   "source": [
    "## Veri Hazırlığı\n",
    "- Veri seti text ve label olarak sütunlara ayrıldı \n",
    "- \"train_test_split\" ile %80 train %20 test olarak bölündü.\n",
    "- stratify = y ile train ve test setlerinde sınıf dağılımı orjinal veri ile aynı tutuldu yani label 1 - 0 sayıları dengeli\n",
    "- random_state = 42 ile split işlemi tekrarlanabilir yani her çalıştırıldığında aynı train/test bölünmesi elde edilmiş olur"
   ]
  },
  {
   "cell_type": "code",
   "execution_count": 8,
   "id": "f80f5eec",
   "metadata": {},
   "outputs": [],
   "source": [
    "df = pd.read_csv(\"../data/movie.csv\")\n",
    "X = df[\"text\"]\n",
    "y = df[\"label\"]\n",
    "\n",
    "X_train, X_test, y_train, y_test = train_test_split(\n",
    "    X, y, test_size = 0.2, stratify = y, random_state = 42\n",
    ")"
   ]
  },
  {
   "cell_type": "markdown",
   "id": "270c3dd8",
   "metadata": {},
   "source": [
    "**HuggingFace + PyTorch**\n",
    "- Pre-trained tokenizer ile metinler token ID'lerine çevrildi,\n",
    "- Padding ve truncation ile tüm diziler aynı uzunlukta getirildi,\n",
    "- Labels tensor formatına dönüştürüldü,\n",
    "- DataLoader için hazır hale getirildi"
   ]
  },
  {
   "cell_type": "code",
   "execution_count": 11,
   "id": "6432a15b",
   "metadata": {},
   "outputs": [],
   "source": [
    "from transformers import AutoTokenizer\n",
    "import torch"
   ]
  },
  {
   "cell_type": "code",
   "execution_count": null,
   "id": "d0e0c5e4",
   "metadata": {},
   "outputs": [],
   "source": [
    "tokenizer = AutoTokenizer.from_pretrained(\"bert-base-uncased\")\n",
    "train_encodings = tokenizer(list(X_train), padding=True, truncation=True, max_length=256, return_tensors=\"pt\")\n",
    "test_encodings = tokenizer(list(X_test), padding=True, truncation=True, max_length=256, return_tensors=\"pt\")\n",
    "\n",
    "y_train_tensor = torch.tensor(list(y_train.values))\n",
    "y_test_tensor = torch.tensor(list(y_test.values))\n",
    "\n",
    "from torch.utils.data import TensorDataset, DataLoader #https://docs.pytorch.org/docs/stable/data.html#module-torch.utils.data\n",
    "\n",
    "train_dataset = TensorDataset(train_encodings['input_ids'], y_train_tensor)\n",
    "train_loader = DataLoader(train_dataset, batch_size=32, shuffle=True)\n",
    "\n"
   ]
  },
  {
   "cell_type": "markdown",
   "id": "49ea06b5",
   "metadata": {},
   "source": [
    "## LSTM / GRU Model Katmanı"
   ]
  },
  {
   "cell_type": "code",
   "execution_count": null,
   "id": "c6b6d8a0",
   "metadata": {},
   "outputs": [],
   "source": []
  }
 ],
 "metadata": {
  "kernelspec": {
   "display_name": ".venv",
   "language": "python",
   "name": "python3"
  },
  "language_info": {
   "codemirror_mode": {
    "name": "ipython",
    "version": 3
   },
   "file_extension": ".py",
   "mimetype": "text/x-python",
   "name": "python",
   "nbconvert_exporter": "python",
   "pygments_lexer": "ipython3",
   "version": "3.13.7"
  }
 },
 "nbformat": 4,
 "nbformat_minor": 5
}
